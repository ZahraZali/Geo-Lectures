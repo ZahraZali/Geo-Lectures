{
 "cells": [
  {
   "cell_type": "code",
   "execution_count": 2,
   "metadata": {},
   "outputs": [
    {
     "data": {
      "image/png": "[encoded data removed]",
      "text/plain": [
       "<Figure size 432x288 with 1 Axes>"
      ]
     },
     "metadata": {
      "needs_background": "light"
     },
     "output_type": "display_data"
    },
    {
     "ename": "NameError",
     "evalue": "name 'plot' is not defined",
     "output_type": "error",
     "traceback": [
      "\u001b[0;31m---------------------------------------------------------------------------\u001b[0m",
      "\u001b[0;31mNameError\u001b[0m                                 Traceback (most recent call last)",
      "\u001b[0;32m<ipython-input-2-1e838596b69e>\u001b[0m in \u001b[0;36m<module>\u001b[0;34m\u001b[0m\n\u001b[1;32m     28\u001b[0m \u001b[0;34m\u001b[0m\u001b[0m\n\u001b[1;32m     29\u001b[0m \u001b[0;31m# -- plot waiting time after eruptions/ duration of bursts vs. time --\u001b[0m\u001b[0;34m\u001b[0m\u001b[0;34m\u001b[0m\u001b[0;34m\u001b[0m\u001b[0m\n\u001b[0;32m---> 30\u001b[0;31m \u001b[0mplot\u001b[0m\u001b[0;34m\u001b[0m\u001b[0;34m\u001b[0m\u001b[0m\n\u001b[0m\u001b[1;32m     31\u001b[0m \u001b[0;34m\u001b[0m\u001b[0m\n\u001b[1;32m     32\u001b[0m \u001b[0;34m\u001b[0m\u001b[0m\n",
      "\u001b[0;31mNameError\u001b[0m: name 'plot' is not defined"
     ]
    }
   ],
   "source": [
    "# Lecture 5: Snuffler exercise functions \n",
    "# \n",
    "# author: Eva Eibl eva.eibl@uni-potsdam.de\n",
    "# SS 2019: Module MGPW02\n",
    "# 16.5.2019\n",
    "# -----------------------------\n",
    "import Lec5_geyserEx_functions as h\n",
    "import matplotlib.pyplot as plt\n",
    "import numpy as np\n",
    "\n",
    "\n",
    "# -- import the snuffler marker file, time in julian days --\n",
    "julianday, evclass = h.read_snuffler_marker ('markers.txt', length=0)\n",
    "julianday= np.sort (julianday)\n",
    "plt.plot (julianday)\n",
    "plt.show ()\n",
    "\n",
    "\n",
    "# -- calculate the waiting time after eruption/ duration of bursts in minutes --\n",
    "\n",
    "\n",
    "waitingtime= []\n",
    "for i in range (1,len (julianday)):\n",
    "    waitingtime.append (julianday[i]- julianday[i-1]*24*60)\n",
    "    \n",
    "waitingtime= np.diff (julianday)*24*60\n",
    "\n",
    "plt.plot (waitingtime)\n",
    "plt.show ()\n",
    "\n",
    "\n",
    "# -- calculate mean time --\n",
    "\n",
    "\n",
    "\n",
    "# -- plot waiting time after eruptions/ duration of bursts vs. time --\n",
    "plot\n",
    "\n",
    "\n",
    "# -- plot histogram of the intereruption times (1 h bins) -- \n",
    "hist\n",
    "\n",
    "\n",
    "\n",
    "\n",
    "\n",
    "\n",
    "\n",
    "\n",
    "\n",
    "\n",
    "\n",
    "\n",
    "\n"
   ]
  },
  {
   "cell_type": "code",
   "execution_count": null,
   "metadata": {},
   "outputs": [],
   "source": []
  }
 ],
 "metadata": {
  "kernelspec": {
   "display_name": "Python 3",
   "language": "python",
   "name": "python3"
  },
  "language_info": {
   "codemirror_mode": {
    "name": "ipython",
    "version": 3
   },
   "file_extension": ".py",
   "mimetype": "text/x-python",
   "name": "python",
   "nbconvert_exporter": "python",
   "pygments_lexer": "ipython3",
   "version": "3.7.3"
  }
 },
 "nbformat": 4,
 "nbformat_minor": 2
}
